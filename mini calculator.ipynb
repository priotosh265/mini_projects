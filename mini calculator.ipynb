{
 "cells": [
  {
   "cell_type": "markdown",
   "metadata": {},
   "source": [
    "### Mini project\n",
    "\n",
    "#### Let's build a calculator\n",
    "   - a+b\n",
    "   - a-b\n",
    "   - a*b\n",
    "   - a/b\n",
    "   - a%b\n"
   ]
  },
  {
   "cell_type": "code",
   "execution_count": 12,
   "metadata": {},
   "outputs": [
    {
     "name": "stdout",
     "output_type": "stream",
     "text": [
      "enter first number : 45.5\n",
      "enter oprator(+,-,*,/,%) :%\n",
      "enter second number : 12.3\n",
      "8.599999999999998\n"
     ]
    }
   ],
   "source": [
    "first = input(\"enter first number : \")\n",
    "operator = input(\"enter oprator(+,-,*,/,%) :\")\n",
    "second = input(\"enter second number : \")\n",
    "\n",
    "first=float(first)\n",
    "second=float(second)\n",
    "\n",
    "if operator == \"+\" :\n",
    "    print(first + second)\n",
    "elif operator == \"-\" :\n",
    "    print(first - second)\n",
    "elif operator == \"/\" :\n",
    "    print(first / second)\n",
    "elif operator == \"*\" :\n",
    "    print(first * second)\n",
    "elif operator == \"%\" :\n",
    "    print(first % second)\n",
    "else: \n",
    "    print(\"invalid opration \")"
   ]
  },
  {
   "cell_type": "code",
   "execution_count": null,
   "metadata": {},
   "outputs": [],
   "source": []
  }
 ],
 "metadata": {
  "kernelspec": {
   "display_name": "Python 3",
   "language": "python",
   "name": "python3"
  },
  "language_info": {
   "codemirror_mode": {
    "name": "ipython",
    "version": 3
   },
   "file_extension": ".py",
   "mimetype": "text/x-python",
   "name": "python",
   "nbconvert_exporter": "python",
   "pygments_lexer": "ipython3",
   "version": "3.8.5"
  }
 },
 "nbformat": 4,
 "nbformat_minor": 4
}
